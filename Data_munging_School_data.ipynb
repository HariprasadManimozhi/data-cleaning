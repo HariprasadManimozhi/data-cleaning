{
 "cells": [
  {
   "cell_type": "markdown",
   "metadata": {},
   "source": [
    "#### Import libraries"
   ]
  },
  {
   "cell_type": "code",
   "execution_count": 251,
   "metadata": {
    "collapsed": true
   },
   "outputs": [],
   "source": [
    "import pandas as pd\n",
    "import numpy as np"
   ]
  },
  {
   "cell_type": "markdown",
   "metadata": {},
   "source": [
    "#### Load & Sample Data"
   ]
  },
  {
   "cell_type": "code",
   "execution_count": 232,
   "metadata": {},
   "outputs": [],
   "source": [
    "# Load data\n",
    "data = pd.read_excel('sample data.xlsx')"
   ]
  },
  {
   "cell_type": "code",
   "execution_count": 233,
   "metadata": {},
   "outputs": [
    {
     "data": {
      "text/html": [
       "<div>\n",
       "<style>\n",
       "    .dataframe thead tr:only-child th {\n",
       "        text-align: right;\n",
       "    }\n",
       "\n",
       "    .dataframe thead th {\n",
       "        text-align: left;\n",
       "    }\n",
       "\n",
       "    .dataframe tbody tr th {\n",
       "        vertical-align: top;\n",
       "    }\n",
       "</style>\n",
       "<table border=\"1\" class=\"dataframe\">\n",
       "  <thead>\n",
       "    <tr style=\"text-align: right;\">\n",
       "      <th></th>\n",
       "      <th>School Name</th>\n",
       "      <th>Address</th>\n",
       "      <th>School type</th>\n",
       "      <th>Board</th>\n",
       "      <th>School Type</th>\n",
       "      <th>School Type.1</th>\n",
       "      <th>Established year</th>\n",
       "    </tr>\n",
       "  </thead>\n",
       "  <tbody>\n",
       "    <tr>\n",
       "      <th>0</th>\n",
       "      <td>21st Century Upper Primary School</td>\n",
       "      <td>#HIG 201 Mandal, Office Road, Kukatpally\\nHyde...</td>\n",
       "      <td>High Secondary School</td>\n",
       "      <td>CBSE Board</td>\n",
       "      <td>Private School</td>\n",
       "      <td>Co-Educational School</td>\n",
       "      <td>NaN</td>\n",
       "    </tr>\n",
       "    <tr>\n",
       "      <th>1</th>\n",
       "      <td>Aaaradhya Vidya</td>\n",
       "      <td>Flat No. 204, H.No. 2-22-263/24, Bankers Chamb...</td>\n",
       "      <td>Play - Class V</td>\n",
       "      <td>Private School</td>\n",
       "      <td>Co-Educational School</td>\n",
       "      <td>NaN</td>\n",
       "      <td>NaN</td>\n",
       "    </tr>\n",
       "  </tbody>\n",
       "</table>\n",
       "</div>"
      ],
      "text/plain": [
       "                         School Name  \\\n",
       "0  21st Century Upper Primary School   \n",
       "1                    Aaaradhya Vidya   \n",
       "\n",
       "                                             Address            School type  \\\n",
       "0  #HIG 201 Mandal, Office Road, Kukatpally\\nHyde...  High Secondary School   \n",
       "1  Flat No. 204, H.No. 2-22-263/24, Bankers Chamb...         Play - Class V   \n",
       "\n",
       "            Board            School Type          School Type.1  \\\n",
       "0      CBSE Board         Private School  Co-Educational School   \n",
       "1  Private School  Co-Educational School                    NaN   \n",
       "\n",
       "  Established year  \n",
       "0              NaN  \n",
       "1              NaN  "
      ]
     },
     "execution_count": 233,
     "metadata": {},
     "output_type": "execute_result"
    }
   ],
   "source": [
    "# Sample data\n",
    "data.head(2)"
   ]
  },
  {
   "cell_type": "markdown",
   "metadata": {},
   "source": [
    "#### Data Cleaning"
   ]
  },
  {
   "cell_type": "code",
   "execution_count": 234,
   "metadata": {},
   "outputs": [],
   "source": [
    "# Split from Details into columns\n",
    "data1 = data[\"Address\"].str.split(\"Details:\\n\",expand=True)"
   ]
  },
  {
   "cell_type": "code",
   "execution_count": 235,
   "metadata": {},
   "outputs": [],
   "source": [
    "# Merge split columns to data\n",
    "list = [data,data1]\n",
    "data = pd.concat(list,axis=1)\n",
    "data = data.rename(columns = {0 : 'Address1',\n",
    "                              1 : 'Details'})"
   ]
  },
  {
   "cell_type": "code",
   "execution_count": 236,
   "metadata": {},
   "outputs": [
    {
     "data": {
      "text/html": [
       "<div>\n",
       "<style>\n",
       "    .dataframe thead tr:only-child th {\n",
       "        text-align: right;\n",
       "    }\n",
       "\n",
       "    .dataframe thead th {\n",
       "        text-align: left;\n",
       "    }\n",
       "\n",
       "    .dataframe tbody tr th {\n",
       "        vertical-align: top;\n",
       "    }\n",
       "</style>\n",
       "<table border=\"1\" class=\"dataframe\">\n",
       "  <thead>\n",
       "    <tr style=\"text-align: right;\">\n",
       "      <th></th>\n",
       "      <th>School Name</th>\n",
       "      <th>Address</th>\n",
       "      <th>School type</th>\n",
       "      <th>Board</th>\n",
       "      <th>School Type</th>\n",
       "      <th>School Type.1</th>\n",
       "      <th>Established year</th>\n",
       "      <th>Address1</th>\n",
       "      <th>Details</th>\n",
       "    </tr>\n",
       "  </thead>\n",
       "  <tbody>\n",
       "    <tr>\n",
       "      <th>0</th>\n",
       "      <td>21st Century Upper Primary School</td>\n",
       "      <td>#HIG 201 Mandal, Office Road, Kukatpally\\nHyde...</td>\n",
       "      <td>High Secondary School</td>\n",
       "      <td>CBSE Board</td>\n",
       "      <td>Private School</td>\n",
       "      <td>Co-Educational School</td>\n",
       "      <td>NaN</td>\n",
       "      <td>#HIG 201 Mandal, Office Road, Kukatpally\\nHyde...</td>\n",
       "      <td>High Secondary School\\nCBSE Board\\nPrivate Sch...</td>\n",
       "    </tr>\n",
       "    <tr>\n",
       "      <th>1</th>\n",
       "      <td>Aaaradhya Vidya</td>\n",
       "      <td>Flat No. 204, H.No. 2-22-263/24, Bankers Chamb...</td>\n",
       "      <td>Play - Class V</td>\n",
       "      <td>Private School</td>\n",
       "      <td>Co-Educational School</td>\n",
       "      <td>NaN</td>\n",
       "      <td>NaN</td>\n",
       "      <td>Flat No. 204, H.No. 2-22-263/24, Bankers Chamb...</td>\n",
       "      <td>Play - Class V\\nPrivate School\\nCo-Educational...</td>\n",
       "    </tr>\n",
       "  </tbody>\n",
       "</table>\n",
       "</div>"
      ],
      "text/plain": [
       "                         School Name  \\\n",
       "0  21st Century Upper Primary School   \n",
       "1                    Aaaradhya Vidya   \n",
       "\n",
       "                                             Address            School type  \\\n",
       "0  #HIG 201 Mandal, Office Road, Kukatpally\\nHyde...  High Secondary School   \n",
       "1  Flat No. 204, H.No. 2-22-263/24, Bankers Chamb...         Play - Class V   \n",
       "\n",
       "            Board            School Type          School Type.1  \\\n",
       "0      CBSE Board         Private School  Co-Educational School   \n",
       "1  Private School  Co-Educational School                    NaN   \n",
       "\n",
       "  Established year                                           Address1  \\\n",
       "0              NaN  #HIG 201 Mandal, Office Road, Kukatpally\\nHyde...   \n",
       "1              NaN  Flat No. 204, H.No. 2-22-263/24, Bankers Chamb...   \n",
       "\n",
       "                                             Details  \n",
       "0  High Secondary School\\nCBSE Board\\nPrivate Sch...  \n",
       "1  Play - Class V\\nPrivate School\\nCo-Educational...  "
      ]
     },
     "execution_count": 236,
     "metadata": {},
     "output_type": "execute_result"
    }
   ],
   "source": [
    "data.head(2)"
   ]
  },
  {
   "cell_type": "code",
   "execution_count": 237,
   "metadata": {},
   "outputs": [
    {
     "data": {
      "text/html": [
       "<div>\n",
       "<style>\n",
       "    .dataframe thead tr:only-child th {\n",
       "        text-align: right;\n",
       "    }\n",
       "\n",
       "    .dataframe thead th {\n",
       "        text-align: left;\n",
       "    }\n",
       "\n",
       "    .dataframe tbody tr th {\n",
       "        vertical-align: top;\n",
       "    }\n",
       "</style>\n",
       "<table border=\"1\" class=\"dataframe\">\n",
       "  <thead>\n",
       "    <tr style=\"text-align: right;\">\n",
       "      <th></th>\n",
       "      <th>0</th>\n",
       "      <th>1</th>\n",
       "      <th>2</th>\n",
       "      <th>3</th>\n",
       "      <th>4</th>\n",
       "    </tr>\n",
       "  </thead>\n",
       "  <tbody>\n",
       "    <tr>\n",
       "      <th>0</th>\n",
       "      <td>High Secondary School</td>\n",
       "      <td>CBSE Board</td>\n",
       "      <td>Private School</td>\n",
       "      <td>Co-Educational School</td>\n",
       "      <td>None</td>\n",
       "    </tr>\n",
       "    <tr>\n",
       "      <th>1</th>\n",
       "      <td>Play - Class V</td>\n",
       "      <td>Private School</td>\n",
       "      <td>Co-Educational School</td>\n",
       "      <td>None</td>\n",
       "      <td>None</td>\n",
       "    </tr>\n",
       "    <tr>\n",
       "      <th>2</th>\n",
       "      <td>Private School (School for Gifted Children)</td>\n",
       "      <td>Co-Educational School</td>\n",
       "      <td>None</td>\n",
       "      <td>None</td>\n",
       "      <td>None</td>\n",
       "    </tr>\n",
       "    <tr>\n",
       "      <th>3</th>\n",
       "      <td>Class V - Class X</td>\n",
       "      <td>Andhra Pradesh Board of Secondary Education</td>\n",
       "      <td>Private School</td>\n",
       "      <td>Co-Educational School</td>\n",
       "      <td>None</td>\n",
       "    </tr>\n",
       "    <tr>\n",
       "      <th>4</th>\n",
       "      <td>Play - Nursery</td>\n",
       "      <td>Private School</td>\n",
       "      <td>Co-Educational School</td>\n",
       "      <td>None</td>\n",
       "      <td>None</td>\n",
       "    </tr>\n",
       "  </tbody>\n",
       "</table>\n",
       "</div>"
      ],
      "text/plain": [
       "                                             0  \\\n",
       "0                        High Secondary School   \n",
       "1                               Play - Class V   \n",
       "2  Private School (School for Gifted Children)   \n",
       "3                            Class V - Class X   \n",
       "4                               Play - Nursery   \n",
       "\n",
       "                                             1                      2  \\\n",
       "0                                   CBSE Board         Private School   \n",
       "1                               Private School  Co-Educational School   \n",
       "2                        Co-Educational School                   None   \n",
       "3  Andhra Pradesh Board of Secondary Education         Private School   \n",
       "4                               Private School  Co-Educational School   \n",
       "\n",
       "                       3     4  \n",
       "0  Co-Educational School  None  \n",
       "1                   None  None  \n",
       "2                   None  None  \n",
       "3  Co-Educational School  None  \n",
       "4                   None  None  "
      ]
     },
     "execution_count": 237,
     "metadata": {},
     "output_type": "execute_result"
    }
   ],
   "source": [
    "# Split with new line as delimiter into columns\n",
    "data3 = data['Details'].str.split(\"\\n\",expand=True)\n",
    "data3.head()"
   ]
  },
  {
   "cell_type": "code",
   "execution_count": 238,
   "metadata": {
    "collapsed": true
   },
   "outputs": [],
   "source": [
    "#Fill NaN\n",
    "data3 = data3.fillna('Nil')"
   ]
  },
  {
   "cell_type": "code",
   "execution_count": 239,
   "metadata": {},
   "outputs": [],
   "source": [
    "#Search for given words \n",
    "searchfor = ['Private','Government']\n",
    "data3['P/G']= data3[0][data3[0].str.contains('|'.join(searchfor))]\n",
    "data3['P/G1']= data3[1][data3[1].str.contains('|'.join(searchfor))]\n",
    "data3['P/G2']= data3[2][data3[2].str.contains('|'.join(searchfor))]\n",
    "data3['P/G3']= data3[3][data3[3].str.contains('|'.join(searchfor))]\n",
    "data3['P/G4']= data3[4][data3[4].str.contains('|'.join(searchfor))]"
   ]
  },
  {
   "cell_type": "code",
   "execution_count": 240,
   "metadata": {},
   "outputs": [
    {
     "data": {
      "text/html": [
       "<div>\n",
       "<style>\n",
       "    .dataframe thead tr:only-child th {\n",
       "        text-align: right;\n",
       "    }\n",
       "\n",
       "    .dataframe thead th {\n",
       "        text-align: left;\n",
       "    }\n",
       "\n",
       "    .dataframe tbody tr th {\n",
       "        vertical-align: top;\n",
       "    }\n",
       "</style>\n",
       "<table border=\"1\" class=\"dataframe\">\n",
       "  <thead>\n",
       "    <tr style=\"text-align: right;\">\n",
       "      <th></th>\n",
       "      <th>0</th>\n",
       "      <th>1</th>\n",
       "      <th>2</th>\n",
       "      <th>3</th>\n",
       "      <th>4</th>\n",
       "      <th>P/G</th>\n",
       "      <th>P/G1</th>\n",
       "      <th>P/G2</th>\n",
       "      <th>P/G3</th>\n",
       "      <th>P/G4</th>\n",
       "    </tr>\n",
       "  </thead>\n",
       "  <tbody>\n",
       "    <tr>\n",
       "      <th>0</th>\n",
       "      <td>High Secondary School</td>\n",
       "      <td>CBSE Board</td>\n",
       "      <td>Private School</td>\n",
       "      <td>Co-Educational School</td>\n",
       "      <td>Nil</td>\n",
       "      <td>NaN</td>\n",
       "      <td>NaN</td>\n",
       "      <td>Private School</td>\n",
       "      <td>NaN</td>\n",
       "      <td>NaN</td>\n",
       "    </tr>\n",
       "    <tr>\n",
       "      <th>1</th>\n",
       "      <td>Play - Class V</td>\n",
       "      <td>Private School</td>\n",
       "      <td>Co-Educational School</td>\n",
       "      <td>Nil</td>\n",
       "      <td>Nil</td>\n",
       "      <td>NaN</td>\n",
       "      <td>Private School</td>\n",
       "      <td>NaN</td>\n",
       "      <td>NaN</td>\n",
       "      <td>NaN</td>\n",
       "    </tr>\n",
       "  </tbody>\n",
       "</table>\n",
       "</div>"
      ],
      "text/plain": [
       "                       0               1                      2  \\\n",
       "0  High Secondary School      CBSE Board         Private School   \n",
       "1         Play - Class V  Private School  Co-Educational School   \n",
       "\n",
       "                       3    4  P/G            P/G1            P/G2 P/G3 P/G4  \n",
       "0  Co-Educational School  Nil  NaN             NaN  Private School  NaN  NaN  \n",
       "1                    Nil  Nil  NaN  Private School             NaN  NaN  NaN  "
      ]
     },
     "execution_count": 240,
     "metadata": {},
     "output_type": "execute_result"
    }
   ],
   "source": [
    "data3.head(2)"
   ]
  },
  {
   "cell_type": "code",
   "execution_count": 241,
   "metadata": {},
   "outputs": [],
   "source": [
    "#Combine columns into one columns\n",
    "cols = ['P/G', 'P/G1', 'P/G2', 'P/G3','P/G4']\n",
    "data3[\"P/G\"] = data3[cols].apply(lambda x: ','.join(x.dropna()), axis=1)"
   ]
  },
  {
   "cell_type": "code",
   "execution_count": 242,
   "metadata": {
    "collapsed": true
   },
   "outputs": [],
   "source": [
    "#Search for given words \n",
    "searchfor = ['Board']\n",
    "data3['Board']= data3[0][data3[0].str.contains('|'.join(searchfor))]\n",
    "data3['Board1']= data3[1][data3[1].str.contains('|'.join(searchfor))]\n",
    "data3['Board2']= data3[2][data3[2].str.contains('|'.join(searchfor))]\n",
    "data3['Board3']= data3[3][data3[3].str.contains('|'.join(searchfor))]\n",
    "data3['Board4']= data3[4][data3[4].str.contains('|'.join(searchfor))]\n",
    "\n",
    "#Combine columns into one columns\n",
    "cols = ['Board', 'Board1', 'Board2', 'Board3','Board4']\n",
    "data3[\"Board\"] = data3[cols].apply(lambda x: ','.join(x.dropna()), axis=1) "
   ]
  },
  {
   "cell_type": "code",
   "execution_count": 243,
   "metadata": {
    "collapsed": true
   },
   "outputs": [],
   "source": [
    "#Search for given words \n",
    "searchfor = ['Co-Educational']\n",
    "data3['Co-Ed']= data3[0][data3[0].str.contains('|'.join(searchfor))]\n",
    "data3['Co-Ed1']= data3[1][data3[1].str.contains('|'.join(searchfor))]\n",
    "data3['Co-Ed2']= data3[2][data3[2].str.contains('|'.join(searchfor))]\n",
    "data3['Co-Ed3']= data3[3][data3[3].str.contains('|'.join(searchfor))]\n",
    "data3['Co-Ed4']= data3[4][data3[4].str.contains('|'.join(searchfor))]\n",
    "\n",
    "#Combine columns into one columns\n",
    "cols = ['Co-Ed', 'Co-Ed1', 'Co-Ed2', 'Co-Ed3','Co-Ed4']\n",
    "data3[\"Co-Educational\"] = data3[cols].apply(lambda x: ','.join(x.dropna()), axis=1) "
   ]
  },
  {
   "cell_type": "code",
   "execution_count": 244,
   "metadata": {
    "collapsed": true
   },
   "outputs": [],
   "source": [
    "#Search for given words \n",
    "searchfor = ['Established']\n",
    "data3['Estb']= data3[0][data3[0].str.contains('|'.join(searchfor))]\n",
    "data3['Estb1']= data3[1][data3[1].str.contains('|'.join(searchfor))]\n",
    "data3['Estb2']= data3[2][data3[2].str.contains('|'.join(searchfor))]\n",
    "data3['Estb3']= data3[3][data3[3].str.contains('|'.join(searchfor))]\n",
    "data3['Estb4']= data3[4][data3[4].str.contains('|'.join(searchfor))]\n",
    "\n",
    "#Combine columns into one columns\n",
    "cols = ['Estb', 'Estb1', 'Estb2', 'Estb3','Estb4']\n",
    "data3[\"Established\"] = data3[cols].apply(lambda x: ','.join(x.dropna()), axis=1) "
   ]
  },
  {
   "cell_type": "code",
   "execution_count": 245,
   "metadata": {
    "collapsed": true
   },
   "outputs": [],
   "source": [
    "#Search for given words \n",
    "searchfor = ['Private','Government']\n",
    "data3['School_type']= data3[0][data3[0].str.contains('|'.join(searchfor))==False]"
   ]
  },
  {
   "cell_type": "code",
   "execution_count": 246,
   "metadata": {},
   "outputs": [],
   "source": [
    "#Cleaned data with required columns\n",
    "cleaned_data = data3[['School_type','P/G','Board','Co-Educational','Established']]"
   ]
  },
  {
   "cell_type": "code",
   "execution_count": 247,
   "metadata": {
    "collapsed": true
   },
   "outputs": [],
   "source": [
    "# Merge columns to data\n",
    "list = [data,cleaned_data]\n",
    "data = pd.concat(list,axis=1)"
   ]
  },
  {
   "cell_type": "code",
   "execution_count": 254,
   "metadata": {},
   "outputs": [],
   "source": [
    "#Fill blanks with Nan\n",
    "data = data.replace(r'^\\s*$', np.nan, regex=True)\n",
    "#Fill NaN\n",
    "#data = data.fillna('Nil')"
   ]
  },
  {
   "cell_type": "markdown",
   "metadata": {},
   "source": [
    "#### Cleaned data"
   ]
  },
  {
   "cell_type": "code",
   "execution_count": 255,
   "metadata": {},
   "outputs": [
    {
     "data": {
      "text/html": [
       "<div>\n",
       "<style>\n",
       "    .dataframe thead tr:only-child th {\n",
       "        text-align: right;\n",
       "    }\n",
       "\n",
       "    .dataframe thead th {\n",
       "        text-align: left;\n",
       "    }\n",
       "\n",
       "    .dataframe tbody tr th {\n",
       "        vertical-align: top;\n",
       "    }\n",
       "</style>\n",
       "<table border=\"1\" class=\"dataframe\">\n",
       "  <thead>\n",
       "    <tr style=\"text-align: right;\">\n",
       "      <th></th>\n",
       "      <th>School Name</th>\n",
       "      <th>Address</th>\n",
       "      <th>School type</th>\n",
       "      <th>Board</th>\n",
       "      <th>School Type</th>\n",
       "      <th>School Type.1</th>\n",
       "      <th>Established year</th>\n",
       "      <th>Address1</th>\n",
       "      <th>Details</th>\n",
       "      <th>School_type</th>\n",
       "      <th>P/G</th>\n",
       "      <th>Board</th>\n",
       "      <th>Co-Educational</th>\n",
       "      <th>Established</th>\n",
       "    </tr>\n",
       "  </thead>\n",
       "  <tbody>\n",
       "    <tr>\n",
       "      <th>0</th>\n",
       "      <td>21st Century Upper Primary School</td>\n",
       "      <td>#HIG 201 Mandal, Office Road, Kukatpally\\nHyde...</td>\n",
       "      <td>High Secondary School</td>\n",
       "      <td>CBSE Board</td>\n",
       "      <td>Private School</td>\n",
       "      <td>Co-Educational School</td>\n",
       "      <td>NaN</td>\n",
       "      <td>#HIG 201 Mandal, Office Road, Kukatpally\\nHyde...</td>\n",
       "      <td>High Secondary School\\nCBSE Board\\nPrivate Sch...</td>\n",
       "      <td>High Secondary School</td>\n",
       "      <td>Private School</td>\n",
       "      <td>CBSE Board</td>\n",
       "      <td>Co-Educational School</td>\n",
       "      <td>NaN</td>\n",
       "    </tr>\n",
       "    <tr>\n",
       "      <th>1</th>\n",
       "      <td>Aaaradhya Vidya</td>\n",
       "      <td>Flat No. 204, H.No. 2-22-263/24, Bankers Chamb...</td>\n",
       "      <td>Play - Class V</td>\n",
       "      <td>Private School</td>\n",
       "      <td>Co-Educational School</td>\n",
       "      <td>NaN</td>\n",
       "      <td>NaN</td>\n",
       "      <td>Flat No. 204, H.No. 2-22-263/24, Bankers Chamb...</td>\n",
       "      <td>Play - Class V\\nPrivate School\\nCo-Educational...</td>\n",
       "      <td>Play - Class V</td>\n",
       "      <td>Private School</td>\n",
       "      <td>NaN</td>\n",
       "      <td>Co-Educational School</td>\n",
       "      <td>NaN</td>\n",
       "    </tr>\n",
       "    <tr>\n",
       "      <th>2</th>\n",
       "      <td>Aakansha Centre for SCR Employees Mentally Han...</td>\n",
       "      <td>Road No. 113/92, Mettuguda\\nSecunderabad - 500...</td>\n",
       "      <td>Private School (School for Gifted Children)</td>\n",
       "      <td>Co-Educational School</td>\n",
       "      <td>NaN</td>\n",
       "      <td>NaN</td>\n",
       "      <td>NaN</td>\n",
       "      <td>Road No. 113/92, Mettuguda\\nSecunderabad - 500...</td>\n",
       "      <td>Private School (School for Gifted Children)\\nC...</td>\n",
       "      <td>NaN</td>\n",
       "      <td>Private School (School for Gifted Children)</td>\n",
       "      <td>NaN</td>\n",
       "      <td>Co-Educational School</td>\n",
       "      <td>NaN</td>\n",
       "    </tr>\n",
       "    <tr>\n",
       "      <th>3</th>\n",
       "      <td>Aakruthi High School</td>\n",
       "      <td>Durganagar Colony, Karmanghat\\nHyderabad - 500...</td>\n",
       "      <td>Class V - Class X</td>\n",
       "      <td>Andhra Pradesh Board of Secondary Education</td>\n",
       "      <td>Private School</td>\n",
       "      <td>Co-Educational School</td>\n",
       "      <td>NaN</td>\n",
       "      <td>Durganagar Colony, Karmanghat\\nHyderabad - 500...</td>\n",
       "      <td>Class V - Class X\\nAndhra Pradesh Board of Sec...</td>\n",
       "      <td>Class V - Class X</td>\n",
       "      <td>Private School</td>\n",
       "      <td>Andhra Pradesh Board of Secondary Education</td>\n",
       "      <td>Co-Educational School</td>\n",
       "      <td>NaN</td>\n",
       "    </tr>\n",
       "    <tr>\n",
       "      <th>4</th>\n",
       "      <td>Aangan Play School</td>\n",
       "      <td>Plot No. 86, Adarsh Nagar Colony, Road #3, Ban...</td>\n",
       "      <td>Play - Nursery</td>\n",
       "      <td>Private School</td>\n",
       "      <td>Co-Educational School</td>\n",
       "      <td>NaN</td>\n",
       "      <td>NaN</td>\n",
       "      <td>Plot No. 86, Adarsh Nagar Colony, Road #3, Ban...</td>\n",
       "      <td>Play - Nursery\\nPrivate School\\nCo-Educational...</td>\n",
       "      <td>Play - Nursery</td>\n",
       "      <td>Private School</td>\n",
       "      <td>NaN</td>\n",
       "      <td>Co-Educational School</td>\n",
       "      <td>NaN</td>\n",
       "    </tr>\n",
       "  </tbody>\n",
       "</table>\n",
       "</div>"
      ],
      "text/plain": [
       "                                         School Name  \\\n",
       "0                  21st Century Upper Primary School   \n",
       "1                                    Aaaradhya Vidya   \n",
       "2  Aakansha Centre for SCR Employees Mentally Han...   \n",
       "3                               Aakruthi High School   \n",
       "4                                 Aangan Play School   \n",
       "\n",
       "                                             Address  \\\n",
       "0  #HIG 201 Mandal, Office Road, Kukatpally\\nHyde...   \n",
       "1  Flat No. 204, H.No. 2-22-263/24, Bankers Chamb...   \n",
       "2  Road No. 113/92, Mettuguda\\nSecunderabad - 500...   \n",
       "3  Durganagar Colony, Karmanghat\\nHyderabad - 500...   \n",
       "4  Plot No. 86, Adarsh Nagar Colony, Road #3, Ban...   \n",
       "\n",
       "                                   School type  \\\n",
       "0                        High Secondary School   \n",
       "1                               Play - Class V   \n",
       "2  Private School (School for Gifted Children)   \n",
       "3                            Class V - Class X   \n",
       "4                               Play - Nursery   \n",
       "\n",
       "                                         Board            School Type  \\\n",
       "0                                   CBSE Board         Private School   \n",
       "1                               Private School  Co-Educational School   \n",
       "2                        Co-Educational School                    NaN   \n",
       "3  Andhra Pradesh Board of Secondary Education         Private School   \n",
       "4                               Private School  Co-Educational School   \n",
       "\n",
       "           School Type.1 Established year  \\\n",
       "0  Co-Educational School              NaN   \n",
       "1                    NaN              NaN   \n",
       "2                    NaN              NaN   \n",
       "3  Co-Educational School              NaN   \n",
       "4                    NaN              NaN   \n",
       "\n",
       "                                            Address1  \\\n",
       "0  #HIG 201 Mandal, Office Road, Kukatpally\\nHyde...   \n",
       "1  Flat No. 204, H.No. 2-22-263/24, Bankers Chamb...   \n",
       "2  Road No. 113/92, Mettuguda\\nSecunderabad - 500...   \n",
       "3  Durganagar Colony, Karmanghat\\nHyderabad - 500...   \n",
       "4  Plot No. 86, Adarsh Nagar Colony, Road #3, Ban...   \n",
       "\n",
       "                                             Details            School_type  \\\n",
       "0  High Secondary School\\nCBSE Board\\nPrivate Sch...  High Secondary School   \n",
       "1  Play - Class V\\nPrivate School\\nCo-Educational...         Play - Class V   \n",
       "2  Private School (School for Gifted Children)\\nC...                    NaN   \n",
       "3  Class V - Class X\\nAndhra Pradesh Board of Sec...      Class V - Class X   \n",
       "4  Play - Nursery\\nPrivate School\\nCo-Educational...         Play - Nursery   \n",
       "\n",
       "                                           P/G  \\\n",
       "0                               Private School   \n",
       "1                               Private School   \n",
       "2  Private School (School for Gifted Children)   \n",
       "3                               Private School   \n",
       "4                               Private School   \n",
       "\n",
       "                                         Board         Co-Educational  \\\n",
       "0                                   CBSE Board  Co-Educational School   \n",
       "1                                          NaN  Co-Educational School   \n",
       "2                                          NaN  Co-Educational School   \n",
       "3  Andhra Pradesh Board of Secondary Education  Co-Educational School   \n",
       "4                                          NaN  Co-Educational School   \n",
       "\n",
       "  Established  \n",
       "0         NaN  \n",
       "1         NaN  \n",
       "2         NaN  \n",
       "3         NaN  \n",
       "4         NaN  "
      ]
     },
     "execution_count": 255,
     "metadata": {},
     "output_type": "execute_result"
    }
   ],
   "source": [
    "data.head()"
   ]
  },
  {
   "cell_type": "code",
   "execution_count": 256,
   "metadata": {
    "collapsed": true
   },
   "outputs": [],
   "source": [
    "#Export to csv\n",
    "data.to_csv('sample_data_cleaned.csv')"
   ]
  }
 ],
 "metadata": {
  "kernelspec": {
   "display_name": "Python 3",
   "language": "python",
   "name": "python3"
  },
  "language_info": {
   "codemirror_mode": {
    "name": "ipython",
    "version": 3
   },
   "file_extension": ".py",
   "mimetype": "text/x-python",
   "name": "python",
   "nbconvert_exporter": "python",
   "pygments_lexer": "ipython3",
   "version": "3.6.3"
  }
 },
 "nbformat": 4,
 "nbformat_minor": 2
}
